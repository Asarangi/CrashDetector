{
 "cells": [
  {
   "cell_type": "code",
   "execution_count": 34,
   "metadata": {},
   "outputs": [
    {
     "name": "stdout",
     "output_type": "stream",
     "text": [
      "Collecting azureml.sdk\n",
      "  Using cached https://files.pythonhosted.org/packages/b4/1e/c212b6f5b7fc4e8dbc80032c9bb0e0b0653dfb7171fb56d94b4442fb6877/azureml_sdk-1.0.23-py3-none-any.whl\n",
      "Requirement already satisfied: azureml-core==1.0.23.* in ./anaconda3/lib/python3.6/site-packages (from azureml.sdk) (1.0.23)\n",
      "Requirement already satisfied: azureml-train==1.0.23.* in ./anaconda3/lib/python3.6/site-packages (from azureml.sdk) (1.0.23)\n",
      "Requirement already satisfied: azureml-pipeline==1.0.23.* in ./anaconda3/lib/python3.6/site-packages (from azureml.sdk) (1.0.23)\n",
      "Requirement already satisfied: jmespath in ./anaconda3/lib/python3.6/site-packages (from azureml-core==1.0.23.*->azureml.sdk) (0.9.4)\n",
      "Requirement already satisfied: ndg-httpsclient in ./anaconda3/lib/python3.6/site-packages (from azureml-core==1.0.23.*->azureml.sdk) (0.5.1)\n",
      "Requirement already satisfied: six>=1.11.0 in ./anaconda3/lib/python3.6/site-packages (from azureml-core==1.0.23.*->azureml.sdk) (1.11.0)\n",
      "Requirement already satisfied: urllib3>=1.23 in ./anaconda3/lib/python3.6/site-packages (from azureml-core==1.0.23.*->azureml.sdk) (1.23)\n",
      "Requirement already satisfied: azure-mgmt-containerregistry>=2.0.0 in ./anaconda3/lib/python3.6/site-packages (from azureml-core==1.0.23.*->azureml.sdk) (2.7.0)\n",
      "Requirement already satisfied: msrest>=0.5.1 in ./anaconda3/lib/python3.6/site-packages (from azureml-core==1.0.23.*->azureml.sdk) (0.6.6)\n",
      "Requirement already satisfied: SecretStorage in ./anaconda3/lib/python3.6/site-packages (from azureml-core==1.0.23.*->azureml.sdk) (3.1.1)\n",
      "Requirement already satisfied: azure-mgmt-storage>=1.5.0 in ./anaconda3/lib/python3.6/site-packages (from azureml-core==1.0.23.*->azureml.sdk) (3.1.1)\n",
      "Requirement already satisfied: msrestazure>=0.4.33 in ./anaconda3/lib/python3.6/site-packages (from azureml-core==1.0.23.*->azureml.sdk) (0.6.0)\n",
      "Requirement already satisfied: jsonpickle in ./anaconda3/lib/python3.6/site-packages (from azureml-core==1.0.23.*->azureml.sdk) (1.1)\n",
      "Requirement already satisfied: paramiko>=2.0.8 in ./anaconda3/lib/python3.6/site-packages (from azureml-core==1.0.23.*->azureml.sdk) (2.4.2)\n",
      "Requirement already satisfied: azure-graphrbac>=0.40.0 in ./anaconda3/lib/python3.6/site-packages (from azureml-core==1.0.23.*->azureml.sdk) (0.61.0)\n",
      "Requirement already satisfied: contextlib2 in ./anaconda3/lib/python3.6/site-packages (from azureml-core==1.0.23.*->azureml.sdk) (0.5.5)\n",
      "Requirement already satisfied: PyJWT in ./anaconda3/lib/python3.6/site-packages (from azureml-core==1.0.23.*->azureml.sdk) (1.7.1)\n",
      "Requirement already satisfied: docker in ./anaconda3/lib/python3.6/site-packages (from azureml-core==1.0.23.*->azureml.sdk) (3.7.2)\n",
      "Requirement already satisfied: pytz in ./anaconda3/lib/python3.6/site-packages (from azureml-core==1.0.23.*->azureml.sdk) (2018.5)\n",
      "Requirement already satisfied: pyopenssl in ./anaconda3/lib/python3.6/site-packages (from azureml-core==1.0.23.*->azureml.sdk) (18.0.0)\n",
      "Requirement already satisfied: azure-mgmt-resource>=1.2.1 in ./anaconda3/lib/python3.6/site-packages (from azureml-core==1.0.23.*->azureml.sdk) (2.1.0)\n",
      "Requirement already satisfied: ruamel.yaml<=0.15.89,>=0.15.35 in ./anaconda3/lib/python3.6/site-packages (from azureml-core==1.0.23.*->azureml.sdk) (0.15.89)\n",
      "Requirement already satisfied: azure-mgmt-authorization>=0.40.0 in ./anaconda3/lib/python3.6/site-packages (from azureml-core==1.0.23.*->azureml.sdk) (0.51.1)\n",
      "Requirement already satisfied: requests>=2.19.1 in ./anaconda3/lib/python3.6/site-packages (from azureml-core==1.0.23.*->azureml.sdk) (2.19.1)\n",
      "Requirement already satisfied: python-dateutil>=2.7.3 in ./anaconda3/lib/python3.6/site-packages (from azureml-core==1.0.23.*->azureml.sdk) (2.7.3)\n",
      "Requirement already satisfied: pathspec in ./anaconda3/lib/python3.6/site-packages (from azureml-core==1.0.23.*->azureml.sdk) (0.5.9)\n",
      "Requirement already satisfied: adal>=1.2.0 in ./anaconda3/lib/python3.6/site-packages (from azureml-core==1.0.23.*->azureml.sdk) (1.2.1)\n",
      "Requirement already satisfied: cryptography!=1.9,!=2.0.*,!=2.1.*,!=2.2.* in ./anaconda3/lib/python3.6/site-packages (from azureml-core==1.0.23.*->azureml.sdk) (2.4.2)\n",
      "Requirement already satisfied: backports.tempfile in ./anaconda3/lib/python3.6/site-packages (from azureml-core==1.0.23.*->azureml.sdk) (1.0)\n",
      "Requirement already satisfied: azure-mgmt-keyvault>=0.40.0 in ./anaconda3/lib/python3.6/site-packages (from azureml-core==1.0.23.*->azureml.sdk) (1.1.0)\n",
      "Requirement already satisfied: azure-common>=1.1.12 in ./anaconda3/lib/python3.6/site-packages (from azureml-core==1.0.23.*->azureml.sdk) (1.1.18)\n",
      "Requirement already satisfied: azureml-train-core==1.0.23.* in ./anaconda3/lib/python3.6/site-packages (from azureml-train==1.0.23.*->azureml.sdk) (1.0.23)\n",
      "Requirement already satisfied: azureml-pipeline-steps==1.0.23.* in ./anaconda3/lib/python3.6/site-packages (from azureml-pipeline==1.0.23.*->azureml.sdk) (1.0.23)\n",
      "Requirement already satisfied: azureml-pipeline-core==1.0.23.* in ./anaconda3/lib/python3.6/site-packages (from azureml-pipeline==1.0.23.*->azureml.sdk) (1.0.23)\n",
      "Requirement already satisfied: pyasn1>=0.1.1 in ./anaconda3/lib/python3.6/site-packages (from ndg-httpsclient->azureml-core==1.0.23.*->azureml.sdk) (0.4.4)\n",
      "Requirement already satisfied: certifi>=2017.4.17 in ./anaconda3/lib/python3.6/site-packages (from msrest>=0.5.1->azureml-core==1.0.23.*->azureml.sdk) (2018.11.29)\n",
      "Requirement already satisfied: isodate>=0.6.0 in ./anaconda3/lib/python3.6/site-packages (from msrest>=0.5.1->azureml-core==1.0.23.*->azureml.sdk) (0.6.0)\n",
      "Requirement already satisfied: requests-oauthlib>=0.5.0 in ./anaconda3/lib/python3.6/site-packages (from msrest>=0.5.1->azureml-core==1.0.23.*->azureml.sdk) (1.2.0)\n",
      "Requirement already satisfied: jeepney in ./anaconda3/lib/python3.6/site-packages (from SecretStorage->azureml-core==1.0.23.*->azureml.sdk) (0.4)\n",
      "Requirement already satisfied: bcrypt>=3.1.3 in ./anaconda3/lib/python3.6/site-packages (from paramiko>=2.0.8->azureml-core==1.0.23.*->azureml.sdk) (3.1.6)\n",
      "Requirement already satisfied: pynacl>=1.0.1 in ./anaconda3/lib/python3.6/site-packages (from paramiko>=2.0.8->azureml-core==1.0.23.*->azureml.sdk) (1.3.0)\n",
      "Requirement already satisfied: websocket-client>=0.32.0 in ./anaconda3/lib/python3.6/site-packages (from docker->azureml-core==1.0.23.*->azureml.sdk) (0.56.0)\n",
      "Requirement already satisfied: docker-pycreds>=0.4.0 in ./anaconda3/lib/python3.6/site-packages (from docker->azureml-core==1.0.23.*->azureml.sdk) (0.4.0)\n",
      "Requirement already satisfied: idna<2.8,>=2.5 in ./anaconda3/lib/python3.6/site-packages (from requests>=2.19.1->azureml-core==1.0.23.*->azureml.sdk) (2.7)\n",
      "Requirement already satisfied: chardet<3.1.0,>=3.0.2 in ./anaconda3/lib/python3.6/site-packages (from requests>=2.19.1->azureml-core==1.0.23.*->azureml.sdk) (3.0.4)\n",
      "Requirement already satisfied: cffi!=1.11.3,>=1.7 in ./anaconda3/lib/python3.6/site-packages (from cryptography!=1.9,!=2.0.*,!=2.1.*,!=2.2.*->azureml-core==1.0.23.*->azureml.sdk) (1.11.5)\n",
      "Requirement already satisfied: asn1crypto>=0.21.0 in ./anaconda3/lib/python3.6/site-packages (from cryptography!=1.9,!=2.0.*,!=2.1.*,!=2.2.*->azureml-core==1.0.23.*->azureml.sdk) (0.24.0)\n",
      "Requirement already satisfied: backports.weakref in ./anaconda3/lib/python3.6/site-packages (from backports.tempfile->azureml-core==1.0.23.*->azureml.sdk) (1.0.post1)\n",
      "Requirement already satisfied: azure-mgmt-nspkg>=2.0.0 in ./anaconda3/lib/python3.6/site-packages (from azure-mgmt-keyvault>=0.40.0->azureml-core==1.0.23.*->azureml.sdk) (3.0.2)\n",
      "Requirement already satisfied: azureml-train-restclients-hyperdrive==1.0.23.* in ./anaconda3/lib/python3.6/site-packages (from azureml-train-core==1.0.23.*->azureml-train==1.0.23.*->azureml.sdk) (1.0.23)\n",
      "Requirement already satisfied: azureml-telemetry==1.0.23.* in ./anaconda3/lib/python3.6/site-packages (from azureml-train-core==1.0.23.*->azureml-train==1.0.23.*->azureml.sdk) (1.0.23)\n",
      "Requirement already satisfied: oauthlib>=3.0.0 in ./anaconda3/lib/python3.6/site-packages (from requests-oauthlib>=0.5.0->msrest>=0.5.1->azureml-core==1.0.23.*->azureml.sdk) (3.0.1)\n",
      "Requirement already satisfied: pycparser in ./anaconda3/lib/python3.6/site-packages (from cffi!=1.11.3,>=1.7->cryptography!=1.9,!=2.0.*,!=2.1.*,!=2.2.*->azureml-core==1.0.23.*->azureml.sdk) (2.18)\n",
      "Requirement already satisfied: azure-nspkg>=3.0.0 in ./anaconda3/lib/python3.6/site-packages (from azure-mgmt-nspkg>=2.0.0->azure-mgmt-keyvault>=0.40.0->azureml-core==1.0.23.*->azureml.sdk) (3.0.2)\n"
     ]
    },
    {
     "name": "stdout",
     "output_type": "stream",
     "text": [
      "Requirement already satisfied: applicationinsights in ./anaconda3/lib/python3.6/site-packages (from azureml-telemetry==1.0.23.*->azureml-train-core==1.0.23.*->azureml-train==1.0.23.*->azureml.sdk) (0.11.8)\n",
      "Installing collected packages: azureml.sdk\n",
      "Successfully installed azureml.sdk\n",
      "\u001b[33mYou are using pip version 18.0, however version 19.0.3 is available.\n",
      "You should consider upgrading via the 'pip install --upgrade pip' command.\u001b[0m\n"
     ]
    },
    {
     "ename": "ModuleNotFoundError",
     "evalue": "No module named 'azureml.widgets'",
     "output_type": "error",
     "traceback": [
      "\u001b[0;31m---------------------------------------------------------------------------\u001b[0m",
      "\u001b[0;31mModuleNotFoundError\u001b[0m                       Traceback (most recent call last)",
      "\u001b[0;32m<ipython-input-34-e06fc406bd30>\u001b[0m in \u001b[0;36m<module>\u001b[0;34m()\u001b[0m\n\u001b[1;32m      8\u001b[0m \u001b[0;32mfrom\u001b[0m \u001b[0mazureml\u001b[0m\u001b[0;34m.\u001b[0m\u001b[0mcore\u001b[0m\u001b[0;34m.\u001b[0m\u001b[0mcompute\u001b[0m \u001b[0;32mimport\u001b[0m \u001b[0mComputeTarget\u001b[0m\u001b[0;34m,\u001b[0m \u001b[0mAmlCompute\u001b[0m\u001b[0;34m\u001b[0m\u001b[0;34m\u001b[0m\u001b[0m\n\u001b[1;32m      9\u001b[0m \u001b[0;32mfrom\u001b[0m \u001b[0mazureml\u001b[0m\u001b[0;34m.\u001b[0m\u001b[0mcore\u001b[0m\u001b[0;34m.\u001b[0m\u001b[0mcompute_target\u001b[0m \u001b[0;32mimport\u001b[0m \u001b[0mComputeTargetException\u001b[0m\u001b[0;34m\u001b[0m\u001b[0;34m\u001b[0m\u001b[0m\n\u001b[0;32m---> 10\u001b[0;31m \u001b[0;32mfrom\u001b[0m \u001b[0mazureml\u001b[0m\u001b[0;34m.\u001b[0m\u001b[0mwidgets\u001b[0m \u001b[0;32mimport\u001b[0m \u001b[0mRunDetails\u001b[0m\u001b[0;34m\u001b[0m\u001b[0;34m\u001b[0m\u001b[0m\n\u001b[0m\u001b[1;32m     11\u001b[0m \u001b[0;32mimport\u001b[0m \u001b[0mos\u001b[0m\u001b[0;34m\u001b[0m\u001b[0;34m\u001b[0m\u001b[0m\n",
      "\u001b[0;31mModuleNotFoundError\u001b[0m: No module named 'azureml.widgets'"
     ]
    }
   ],
   "source": [
    "!pip install azureml.sdk\n",
    "import azureml.core\n",
    "from azureml.core import Workspace, Datastore, Experiment\n",
    "import azureml.data\n",
    "from azureml.data.azure_storage_datastore import AzureFileDatastore, AzureBlobDatastore\n",
    "from azureml.data.data_reference import DataReference\n",
    "from azureml.train.dnn import TensorFlow\n",
    "from azureml.core.compute import ComputeTarget, AmlCompute\n",
    "from azureml.core.compute_target import ComputeTargetException\n",
    "from azureml.widgets import RunDetails\n",
    "import os"
   ]
  },
  {
   "cell_type": "code",
   "execution_count": 3,
   "metadata": {},
   "outputs": [
    {
     "name": "stderr",
     "output_type": "stream",
     "text": [
      "Note, we have launched a browser for you to login. For old experience with device code, use \"az login --use-device-code\"\n"
     ]
    },
    {
     "name": "stdout",
     "output_type": "stream",
     "text": [
      "Found the config file in: /Users/Amrut/config.json\n",
      "Performing interactive authentication. Please follow the instructions on the terminal.\n"
     ]
    },
    {
     "name": "stderr",
     "output_type": "stream",
     "text": [
      "You have logged in. Now let us find all the subscriptions to which you have access...\n"
     ]
    },
    {
     "name": "stdout",
     "output_type": "stream",
     "text": [
      "Interactive authentication successfully completed.\n",
      "Workspace name: AccidentDetection\n",
      "Azure region: eastus\n",
      "Subscription id: e298a653-a33f-4b32-9ec2-2adfbd3b649d\n",
      "Resource group: CCGroup7Resources\n"
     ]
    }
   ],
   "source": [
    "ws = Workspace.from_config()\n",
    "print('Workspace name: ' + ws.name, \n",
    "      'Azure region: ' + ws.location, \n",
    "      'Subscription id: ' + ws.subscription_id, \n",
    "      'Resource group: ' + ws.resource_group, sep='\\n')"
   ]
  },
  {
   "cell_type": "code",
   "execution_count": 35,
   "metadata": {},
   "outputs": [],
   "source": [
    "ds = Datastore.get(ws, datastore_name='dashcamstreetimages')"
   ]
  },
  {
   "cell_type": "code",
   "execution_count": 36,
   "metadata": {},
   "outputs": [
    {
     "data": {
      "text/plain": [
       "$AZUREML_DATAREFERENCE_dashcamstreetimages"
      ]
     },
     "execution_count": 36,
     "metadata": {},
     "output_type": "execute_result"
    }
   ],
   "source": [
    "ds.as_mount()"
   ]
  },
  {
   "cell_type": "code",
   "execution_count": 37,
   "metadata": {},
   "outputs": [
    {
     "name": "stdout",
     "output_type": "stream",
     "text": [
      "Found existing compute target\n",
      "{'currentNodeCount': 0, 'targetNodeCount': 0, 'nodeStateCounts': {'preparingNodeCount': 0, 'runningNodeCount': 0, 'idleNodeCount': 0, 'unusableNodeCount': 0, 'leavingNodeCount': 0, 'preemptedNodeCount': 0}, 'allocationState': 'Steady', 'allocationStateTransitionTime': '2019-04-18T23:12:02.954000+00:00', 'errors': None, 'creationTime': '2019-04-18T23:11:51.292045+00:00', 'modifiedTime': '2019-04-18T23:12:07.921232+00:00', 'provisioningState': 'Succeeded', 'provisioningStateTransitionTime': None, 'scaleSettings': {'minNodeCount': 0, 'maxNodeCount': 4, 'nodeIdleTimeBeforeScaleDown': 'PT120S'}, 'vmPriority': 'Dedicated', 'vmSize': 'STANDARD_NC6'}\n",
      "GPU AmlCompute Succeeded\n",
      "crash AmlCompute Succeeded\n"
     ]
    }
   ],
   "source": [
    "cluster_name = \"crash\"\n",
    "\n",
    "try:\n",
    "    compute_target = ComputeTarget(workspace=ws, name=cluster_name)\n",
    "    print('Found existing compute target')\n",
    "except ComputeTargetException:\n",
    "    print('Creating a new compute target...')\n",
    "    compute_config = AmlCompute.provisioning_configuration(vm_size='STANDARD_NC6', \n",
    "                                                           max_nodes=4)\n",
    "\n",
    "    # create the cluster\n",
    "    compute_target = ComputeTarget.create(ws, cluster_name, compute_config)\n",
    "\n",
    "    # can poll for a minimum number of nodes and for a specific timeout. \n",
    "    # if no min node count is provided it uses the scale settings for the cluster\n",
    "    compute_target.wait_for_completion(show_output=True, min_node_count=None, timeout_in_minutes=20)\n",
    "\n",
    "# use get_status() to get a detailed status for the current cluster. \n",
    "print(compute_target.get_status().serialize())\n",
    "\n",
    "compute_targets = ws.compute_targets\n",
    "for name, ct in compute_targets.items():\n",
    "    print(name, ct.type, ct.provisioning_state)\n"
   ]
  },
  {
   "cell_type": "code",
   "execution_count": 38,
   "metadata": {},
   "outputs": [
    {
     "name": "stderr",
     "output_type": "stream",
     "text": [
      "framework_version is not specified, defaulting to version 1.12.\n",
      "Submitting /Users/Amrut/Desktop/CarCrashDetector directory for run. The size of the directory >= 25 MB, so it can take a few minutes.\n"
     ]
    }
   ],
   "source": [
    "# Train using Tensorflow\n",
    "from azureml.train.dnn import TensorFlow\n",
    "exp = Experiment(workspace=ws, name='AccidentDetection')\n",
    "script_params = {\n",
    "    'train_path': ws.get_default_datastore().as_mount(),\n",
    "    '--mode': 'train',\n",
    "    '--gpu': 0,\n",
    "}\n",
    "\n",
    "tf_est = TensorFlow(source_directory='/Users/Amrut/Desktop/CarCrashDetector/',\n",
    "                    script_params=script_params,\n",
    "                    compute_target=compute_target,\n",
    "                    entry_script='accident.py',\n",
    "                    conda_packages=['cv2', 'sys', 'matplotlib','numpy','os', 'time','pdb','argparse'], # in case you need scikit-learn in train.py\n",
    "                    use_gpu=True)\n",
    "run = exp.submit(tf_est)"
   ]
  },
  {
   "cell_type": "code",
   "execution_count": 40,
   "metadata": {},
   "outputs": [],
   "source": [
    "run.get_details() \n",
    "\n",
    "os.makedirs('./CarCrashModel', exist_ok=True)\n",
    "\n",
    "for f in run.get_file_names():\n",
    "    if f.startswith('outputs/CarCrashModel'):\n",
    "        output_file_path = os.path.join('./CarCrashModel', f.split('/')[-1])\n",
    "        print('Downloading from {} to {} ...'.format(f, output_file_path))\n",
    "        run.download_file(name=f, output_file_path=output_file_path)                    "
   ]
  },
  {
   "cell_type": "code",
   "execution_count": null,
   "metadata": {},
   "outputs": [],
   "source": []
  }
 ],
 "metadata": {
  "kernelspec": {
   "display_name": "Python 3",
   "language": "python",
   "name": "python3"
  },
  "language_info": {
   "codemirror_mode": {
    "name": "ipython",
    "version": 3
   },
   "file_extension": ".py",
   "mimetype": "text/x-python",
   "name": "python",
   "nbconvert_exporter": "python",
   "pygments_lexer": "ipython3",
   "version": "3.6.8"
  }
 },
 "nbformat": 4,
 "nbformat_minor": 2
}
